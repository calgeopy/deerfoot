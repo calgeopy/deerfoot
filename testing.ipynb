{
 "cells": [
  {
   "cell_type": "code",
   "execution_count": 1,
   "metadata": {},
   "outputs": [
    {
     "name": "stderr",
     "output_type": "stream",
     "text": [
      "C:\\Users\\hoogec\\Anaconda3\\lib\\site-packages\\h5py\\__init__.py:36: FutureWarning: Conversion of the second argument of issubdtype from `float` to `np.floating` is deprecated. In future, it will be treated as `np.float64 == np.dtype(float).type`.\n",
      "  from ._conv import register_converters as _register_converters\n"
     ]
    }
   ],
   "source": [
    "import sys\n",
    "import os\n",
    "import pyqtgraph as pg\n",
    "import numpy as np\n",
    "from pyqtgraph.Qt import QtCore, QtGui\n",
    "import pandas as pd\n",
    "import bruges\n",
    "import lasio\n",
    "from welly import Well\n",
    "import lxml\n"
   ]
  },
  {
   "cell_type": "code",
   "execution_count": 50,
   "metadata": {},
   "outputs": [],
   "source": [
    "curves_info = lxml.etree.parse(r'C:\\Users\\hoogec\\Documents\\GitHub\\deerfoot\\CurveData.xml').getroot()\n",
    "\n",
    "curve_displ = [{'name': 'Son-Den', 'curves': [['GammaRay', 'SelfPot'], ['Sonic'], ['Density']]}]\n",
    "curve_displ.append({'name': 'Son-Shear', 'curves': [['GammaRay', 'SelfPot'], ['Sonic'], ['ShearSonic']]})\n",
    "curve_displ.append({'name': 'Resistivity', 'curves': [['GammaRay', 'SelfPot'], ['DeepRes', 'MedRes', 'ShallowRes']]})\n",
    "curve_displ.append({'name': 'Porosity-Lime', 'curves': [['GammaRay', 'SelfPot'], ['DenPorLime', 'NeutPorLime']]})\n",
    "curve_displ.append({'name': 'Porosity-Sand', 'curves': [['GammaRay', 'SelfPot'], ['DenPorSand', 'NeutPorSand']]})\n",
    "curve_displ.append({'name': 'Porosity-Dol', 'curves': [['GammaRay', 'SelfPot'], ['DenPorDol', 'NeutPorDol']]})\n",
    "curve_displ.append({'name': 'LMR', 'curves': [['GammaRay', 'SelfPot'], ['Lambda'], ['Mu'],['Density']]})\n",
    "curve_displ.append({'name': 'MiniPlot-Lime', 'curves': [['GammaRay', 'SelfPot'], ['DeepRes', 'MedRes', 'ShallowRes'], ['DenPorLime', 'NeutPorLime']]})\n",
    "curve_displ.append({'name': 'MiniPlot-Sand', 'curves': [['GammaRay', 'SelfPot'], ['DeepRes', 'MedRes', 'ShallowRes'], ['DenPorSand', 'NeutPorSand']]})\n",
    "curve_displ.append({'name': 'MiniPlot-Dol', 'curves': [['GammaRay', 'SelfPot'], ['DeepRes', 'MedRes', 'ShallowRes'], ['DenPorDol', 'NeutPorDol']]})\n"
   ]
  },
  {
   "cell_type": "code",
   "execution_count": 99,
   "metadata": {},
   "outputs": [],
   "source": [
    "#added by C. Hooge    \n",
    "class helperFunctions:\n",
    "    def CheckMnemonic(crv,lascrvs,curves_info):\n",
    "        orig_mn = crv.mnemonic\n",
    "        pos = [0]\n",
    "        if crv.mnemonic != \"DEPT\":\n",
    "            name,mnemonic = helperFunctions.Find_Curve_Data(crv.mnemonic,curves_info)\n",
    "#        print('mnemonic check',orig_mn,name,mnemonic)\n",
    "            if name is not None:\n",
    "                txt_alias2 = \".//*[@name='\" + name + \"']/Aliases/Name\"\n",
    "                crv_fnd_all = curves_info.findall(txt_alias2)\n",
    "                pos = [i for i,x in enumerate(crv_fnd_all) if x.text==orig_mn]\n",
    "        \n",
    "#            print(\"hereA\",name,orig_mn,pos,len(pos),(name in lascrvs))\n",
    "                       \n",
    "                if mnemonic is not None:\n",
    "                    if name in lascrvs:\n",
    "                        if len(pos) > 0:\n",
    "                            crv.mnemonic = name + \"_\" + str(pos[0])\n",
    "                        else:\n",
    "                            crv.mnemonic = name + \"_0\"\n",
    "                    \n",
    "#                crv.mnemonic = name\n",
    "                    else:\n",
    "                        crv.mnemonic = name\n",
    "                \n",
    "#        crv.original_mnemonic = orig_mn\n",
    "        else:\n",
    "            name = 'Depth'\n",
    "            crv.mnemonic = name  \n",
    " \n",
    "        crv.original_mnemonic = orig_mn\n",
    "        \n",
    "        return crv\n",
    "\n",
    "    def Find_Curve_Data(crv_mn,curves_info,search='mnemonic'):\n",
    "        if search == 'mnemonic':\n",
    "            txt = 'Curve[Mnemonic=\"' + crv_mn + '\"]'\n",
    "            txt_alias = \"Curve/Aliases[Name='\" + crv_mn + \"']\"\n",
    "        if (search == 'name'):\n",
    "#            txt ='Curve[Name=\"' + crv + '\"]'\n",
    "            txt = \"Curve[@name='\" + crv_mn + \"']\"\n",
    "            txt_alias = \"\"\n",
    "\n",
    "        crv_fnd = curves_info.find(txt)\n",
    "#        print('search',search,crv_mn,txt,crv_fnd)\n",
    "\n",
    "        name = None\n",
    "        mnemonic = None\n",
    "        min1 = None\n",
    "        max1 = None\n",
    "        reversed1 = None\n",
    "        units = None\n",
    "        colour = None\n",
    "        if crv_fnd is not None:\n",
    "            name = crv_fnd.attrib['name']\n",
    "            mnemonic = crv_fnd.findtext('Mnemonic')\n",
    "            min1 = crv_fnd.findtext('Minimum')\n",
    "            max1 = crv_fnd.findtext('Maximum')\n",
    "            reversed1 = crv_fnd.findtext('Reversed')\n",
    "            units = crv_fnd.findtext('Units')\n",
    "            colour = crv_fnd.findtext('Colour')\n",
    "        else:\n",
    "            crv_fnd = curves_info.find(txt_alias)        \n",
    "            if crv_fnd is not None:\n",
    "                name = crv_fnd.getparent().attrib['name']\n",
    "                mnemonic = crv_fnd.getparent().findtext('Mnemonic')\n",
    "                min1 = crv_fnd.getparent().findtext('Minimum')\n",
    "                max1 = crv_fnd.getparent().findtext('Maximum')\n",
    "                reversed1 = crv_fnd.getparent().findtext('Reversed')\n",
    "                units = crv_fnd.getparent().findtext('Units')\n",
    "                colour = crv_fnd.getparent().findtext('Colour')\n",
    "            \n",
    "        return name, mnemonic, min1, max1, reversed1, units, colour\n",
    "    \n",
    "    def ConvertCurveToMetric(crv_data,conversion=1):\n",
    "        return crv_data * conversion\n",
    "        \n",
    "    def str2bool(v):\n",
    "        \n",
    "        return v.lower() in (\"yes\", \"true\", \"True\", \"t\", \"1\")       \n",
    "\n",
    "    def CheckCurvesDisplay(crvs_disp,curvesdict):\n",
    "#        for cd in curve_displ:\n",
    "#            print(\"crvs_disp\",crvs_disp['curves'])\n",
    "        new_crvs_list = []\n",
    "        for cv in crvs_disp['curves']:        \n",
    "            tst = set(cv).intersection(curvesdict)\n",
    "#            print(\"cv\",cv,tst,len(tst))\n",
    "\n",
    "            if len(tst) > 0:\n",
    "                new_crvs_list.append(list(tst))\n",
    "#                    print(list(tst))\n",
    "                        \n",
    "            \n",
    "#            print(\"cd NEW\",new_crvs_list)\n",
    "        return new_crvs_list\n"
   ]
  },
  {
   "cell_type": "code",
   "execution_count": 100,
   "metadata": {},
   "outputs": [
    {
     "name": "stderr",
     "output_type": "stream",
     "text": [
      "Found nonstandard LAS section: ~Tops\n"
     ]
    }
   ],
   "source": [
    "las = lasio.read('100051403911W400.las')\n",
    "for crv in las.curves:\n",
    "            if crv.mnemonic != \"DEPT\":\n",
    "                name, mnemonic, min1, max1, reversed1, units,colour = helperFunctions.Find_Curve_Data(crv.mnemonic,curves_info,search='mnemonic')\n",
    "                las.curves.minimum = min1\n",
    "                las.curves.maximum = max1\n",
    "                las.curves.reversed = reversed1\n",
    "                las.curves.units = units\n",
    "                las.curves.colour = colour\n",
    "            \n",
    "                if name is None:\n",
    "                    name = crv.mnemonic\n",
    "\n",
    "                crv.mnemonic = name\n"
   ]
  },
  {
   "cell_type": "code",
   "execution_count": 101,
   "metadata": {},
   "outputs": [
    {
     "data": {
      "text/plain": [
       "['DEPT',\n",
       " 'CaliperX',\n",
       " 'CaliperY',\n",
       " 'DenCorr',\n",
       " 'DenPorDol',\n",
       " 'DenPorLime',\n",
       " 'DenPorSand',\n",
       " 'DT_',\n",
       " 'Sonic',\n",
       " 'FocusedRes',\n",
       " 'GammaRay',\n",
       " 'MBTC',\n",
       " 'MicroInverse',\n",
       " 'MicroNormal',\n",
       " 'NeutPorDol',\n",
       " 'NeutPorLime',\n",
       " 'NeutPorSand',\n",
       " 'PhotoEffect',\n",
       " 'DeepRes',\n",
       " 'MedRes',\n",
       " 'SelfPot']"
      ]
     },
     "execution_count": 101,
     "metadata": {},
     "output_type": "execute_result"
    }
   ],
   "source": [
    "list(las.curvesdict)\n"
   ]
  },
  {
   "cell_type": "code",
   "execution_count": null,
   "metadata": {},
   "outputs": [],
   "source": []
  },
  {
   "cell_type": "code",
   "execution_count": null,
   "metadata": {},
   "outputs": [],
   "source": []
  },
  {
   "cell_type": "code",
   "execution_count": null,
   "metadata": {},
   "outputs": [],
   "source": [
    "\n"
   ]
  },
  {
   "cell_type": "code",
   "execution_count": null,
   "metadata": {},
   "outputs": [],
   "source": []
  },
  {
   "cell_type": "code",
   "execution_count": null,
   "metadata": {},
   "outputs": [],
   "source": []
  },
  {
   "cell_type": "code",
   "execution_count": 102,
   "metadata": {},
   "outputs": [
    {
     "name": "stdout",
     "output_type": "stream",
     "text": [
      "z {'name': 'Son-Den', 'curves': [['SelfPot', 'GammaRay'], ['Sonic']]}\n",
      "z {'name': 'Son-Shear', 'curves': [['SelfPot', 'GammaRay'], ['Sonic']]}\n",
      "z {'name': 'Resistivity', 'curves': [['SelfPot', 'GammaRay'], ['MedRes', 'DeepRes']]}\n",
      "z {'name': 'Porosity-Lime', 'curves': [['SelfPot', 'GammaRay'], ['DenPorLime', 'NeutPorLime']]}\n",
      "z {'name': 'Porosity-Sand', 'curves': [['SelfPot', 'GammaRay'], ['DenPorSand', 'NeutPorSand']]}\n",
      "z {'name': 'Porosity-Dol', 'curves': [['SelfPot', 'GammaRay'], ['NeutPorDol', 'DenPorDol']]}\n",
      "z {'name': 'LMR', 'curves': [['SelfPot', 'GammaRay']]}\n",
      "z {'name': 'MiniPlot-Lime', 'curves': [['SelfPot', 'GammaRay'], ['MedRes', 'DeepRes'], ['DenPorLime', 'NeutPorLime']]}\n",
      "z {'name': 'MiniPlot-Sand', 'curves': [['SelfPot', 'GammaRay'], ['MedRes', 'DeepRes'], ['DenPorSand', 'NeutPorSand']]}\n",
      "z {'name': 'MiniPlot-Dol', 'curves': [['SelfPot', 'GammaRay'], ['MedRes', 'DeepRes'], ['NeutPorDol', 'DenPorDol']]}\n"
     ]
    }
   ],
   "source": [
    "curve_displ_new = []\n",
    "for cd in curve_displ:\n",
    "#    print(cd['name'])\n",
    "    helperFunctions.CheckCurvesDisplay(cd,las.curvesdict)\n",
    "    new_list = helperFunctions.CheckCurvesDisplay(cd, las.curvesdict)\n",
    "    z = {**{'name': cd['name']}, **{'curves': new_list}}\n",
    "    print('z',z)\n",
    "\n",
    "    curve_displ_new.append(dict(z))\n"
   ]
  },
  {
   "cell_type": "code",
   "execution_count": 95,
   "metadata": {},
   "outputs": [
    {
     "data": {
      "text/plain": [
       "[{'name': 'Son-Den', 'curves': [['SelfPot', 'GammaRay'], ['Sonic']]},\n",
       " {'name': 'Son-Shear', 'curves': [['SelfPot', 'GammaRay'], ['Sonic']]},\n",
       " {'name': 'Resistivity',\n",
       "  'curves': [['SelfPot', 'GammaRay'], ['MedRes', 'DeepRes']]},\n",
       " {'name': 'Porosity-Lime',\n",
       "  'curves': [['SelfPot', 'GammaRay'], ['DenPorLime', 'NeutPorLime']]},\n",
       " {'name': 'Porosity-Sand',\n",
       "  'curves': [['SelfPot', 'GammaRay'], ['DenPorSand', 'NeutPorSand']]},\n",
       " {'name': 'Porosity-Dol',\n",
       "  'curves': [['SelfPot', 'GammaRay'], ['NeutPorDol', 'DenPorDol']]},\n",
       " {'name': 'LMR', 'curves': [['SelfPot', 'GammaRay']]},\n",
       " {'name': 'MiniPlot-Lime',\n",
       "  'curves': [['SelfPot', 'GammaRay'],\n",
       "   ['MedRes', 'DeepRes'],\n",
       "   ['DenPorLime', 'NeutPorLime']]},\n",
       " {'name': 'MiniPlot-Sand',\n",
       "  'curves': [['SelfPot', 'GammaRay'],\n",
       "   ['MedRes', 'DeepRes'],\n",
       "   ['DenPorSand', 'NeutPorSand']]},\n",
       " {'name': 'MiniPlot-Dol',\n",
       "  'curves': [['SelfPot', 'GammaRay'],\n",
       "   ['MedRes', 'DeepRes'],\n",
       "   ['NeutPorDol', 'DenPorDol']]}]"
      ]
     },
     "execution_count": 95,
     "metadata": {},
     "output_type": "execute_result"
    }
   ],
   "source": [
    "curve_displ"
   ]
  },
  {
   "cell_type": "code",
   "execution_count": 91,
   "metadata": {},
   "outputs": [
    {
     "data": {
      "text/plain": [
       "[{'name': 'Son-Den', 'curves': [['SelfPot', 'GammaRay'], ['Sonic']]},\n",
       " {'name': 'Son-Shear', 'curves': [['SelfPot', 'GammaRay'], ['Sonic']]},\n",
       " {'name': 'Resistivity',\n",
       "  'curves': [['SelfPot', 'GammaRay'], ['MedRes', 'DeepRes']]},\n",
       " {'name': 'Porosity-Lime',\n",
       "  'curves': [['SelfPot', 'GammaRay'], ['DenPorLime', 'NeutPorLime']]},\n",
       " {'name': 'Porosity-Sand',\n",
       "  'curves': [['SelfPot', 'GammaRay'], ['DenPorSand', 'NeutPorSand']]},\n",
       " {'name': 'Porosity-Dol',\n",
       "  'curves': [['SelfPot', 'GammaRay'], ['NeutPorDol', 'DenPorDol']]},\n",
       " {'name': 'LMR', 'curves': [['SelfPot', 'GammaRay']]},\n",
       " {'name': 'MiniPlot-Lime',\n",
       "  'curves': [['SelfPot', 'GammaRay'],\n",
       "   ['MedRes', 'DeepRes'],\n",
       "   ['DenPorLime', 'NeutPorLime']]},\n",
       " {'name': 'MiniPlot-Sand',\n",
       "  'curves': [['SelfPot', 'GammaRay'],\n",
       "   ['MedRes', 'DeepRes'],\n",
       "   ['DenPorSand', 'NeutPorSand']]},\n",
       " {'name': 'MiniPlot-Dol',\n",
       "  'curves': [['SelfPot', 'GammaRay'],\n",
       "   ['MedRes', 'DeepRes'],\n",
       "   ['NeutPorDol', 'DenPorDol']]}]"
      ]
     },
     "execution_count": 91,
     "metadata": {},
     "output_type": "execute_result"
    }
   ],
   "source": [
    "curve_displ_new"
   ]
  },
  {
   "cell_type": "code",
   "execution_count": null,
   "metadata": {},
   "outputs": [],
   "source": []
  }
 ],
 "metadata": {
  "kernelspec": {
   "display_name": "Python 3",
   "language": "python",
   "name": "python3"
  },
  "language_info": {
   "codemirror_mode": {
    "name": "ipython",
    "version": 3
   },
   "file_extension": ".py",
   "mimetype": "text/x-python",
   "name": "python",
   "nbconvert_exporter": "python",
   "pygments_lexer": "ipython3",
   "version": "3.6.5"
  }
 },
 "nbformat": 4,
 "nbformat_minor": 2
}
